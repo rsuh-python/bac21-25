{
 "cells": [
  {
   "cell_type": "markdown",
   "id": "9f43da11-89a3-46a5-ab9a-c3d05b15dcad",
   "metadata": {},
   "source": [
    "#### Задача 1. \n",
    "\n",
    "Возьмите любой не очень длинный текст на русском языке (2-3 предложения будет достаточно), хорошо, если это будет текст из соцсетей или любой, с вашей точки зрения, сложный для морфоанализа. Сравните pymorphy и RNNMorph: придется ручками посчитать, сколько у каждого из них в разборах было ошибок. "
   ]
  },
  {
   "cell_type": "code",
   "execution_count": null,
   "id": "3fb3425c-7a72-42d6-b16d-d8b3ebba33ff",
   "metadata": {},
   "outputs": [],
   "source": [
    "# your code here"
   ]
  },
  {
   "cell_type": "markdown",
   "id": "23550d88-cc6f-4a67-b0fa-64858a0bf5f3",
   "metadata": {},
   "source": [
    "#### Задача 2. \n",
    "\n",
    "Для любого (достаточно длинного - возьмите файл!) текста на русском языке посчитайте процентный состав по частям речи: сколько в нем в процентах сущ, гл и т.п. "
   ]
  },
  {
   "cell_type": "code",
   "execution_count": null,
   "id": "193116b5-7941-4eb2-870e-91c6598f1cc5",
   "metadata": {},
   "outputs": [],
   "source": [
    "# your code here"
   ]
  },
  {
   "cell_type": "markdown",
   "id": "8a8a5482-91af-4286-b9be-897e9ec5114b",
   "metadata": {},
   "source": [
    "#### Задача 3. \n",
    "\n",
    "Посчитайте, сколько раз в тексте прилагательное шло после существительного, а сколько раз - до него (т.е. все случаи типа \"красивая девочка\" vs \"девочка красивая\"). Подумайте, можно ли доверять этим цифрам. "
   ]
  },
  {
   "cell_type": "code",
   "execution_count": null,
   "id": "f1c42e8a-8baf-4205-b496-006c09acac0f",
   "metadata": {},
   "outputs": [],
   "source": [
    "# your code here"
   ]
  },
  {
   "cell_type": "markdown",
   "id": "ccebc92c-3318-4c1e-8be8-be1ea577fd7f",
   "metadata": {},
   "source": [
    "#### Задача 4 (2 балла). \n",
    "\n",
    "В корпусной лингвистике и NLP существует такая метрика, как [TF-IDF](https://ru.wikipedia.org/wiki/TF-IDF). Соберите игрушечный корпус на 10 текстов (необязательно больших); напишите программу, которая будет по запросу пользователя выводить эту метрику для заданного пользователем слова на вашем корпусе. Это означает, что корпус необходимо будет лемматизировать и посчитать количество слов по документам. \n",
    "\n",
    "Подсказка: функции для подсчета логарифмов есть в модуле math. "
   ]
  },
  {
   "cell_type": "code",
   "execution_count": null,
   "id": "3e9efcf4-709c-49e7-8edd-438369ca5e9d",
   "metadata": {},
   "outputs": [],
   "source": [
    "# your code here"
   ]
  }
 ],
 "metadata": {
  "kernelspec": {
   "display_name": "Python 3 (ipykernel)",
   "language": "python",
   "name": "python3"
  },
  "language_info": {
   "codemirror_mode": {
    "name": "ipython",
    "version": 3
   },
   "file_extension": ".py",
   "mimetype": "text/x-python",
   "name": "python",
   "nbconvert_exporter": "python",
   "pygments_lexer": "ipython3",
   "version": "3.11.5"
  }
 },
 "nbformat": 4,
 "nbformat_minor": 5
}
