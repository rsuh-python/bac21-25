{
 "cells": [
  {
   "cell_type": "markdown",
   "id": "641cdcd4-5885-4ae7-8a64-76573d6d300b",
   "metadata": {},
   "source": [
    "#### Задача 1. \n",
    "\n",
    "Выберите любую картинку и с помощью библиотеки Pillow\n",
    "\n",
    "- примените к ней любой фильтр\n",
    "- отразите ее горизонтально (погуглите, как)\n",
    "- уменьшите ее до размера 32х32 пикселя\n",
    "- сохраните ее в формате ico"
   ]
  },
  {
   "cell_type": "code",
   "execution_count": null,
   "id": "b61412fa-a163-4d96-b4ac-0220c90fa147",
   "metadata": {},
   "outputs": [],
   "source": [
    "# your code here"
   ]
  },
  {
   "cell_type": "markdown",
   "id": "c89eeedf-3ff4-4aaf-bbb2-095ee5cb7e9e",
   "metadata": {},
   "source": [
    "#### Задача 2.\n",
    "\n",
    "Сделайте интерактивную карту Москвы и разместите на ней маркер для РГГУ."
   ]
  },
  {
   "cell_type": "code",
   "execution_count": null,
   "id": "90c694f3-d4aa-4cc1-a245-624f874631d6",
   "metadata": {},
   "outputs": [],
   "source": [
    "# your code here"
   ]
  },
  {
   "cell_type": "markdown",
   "id": "ebda2e60-85df-4d8d-b0e1-1ac5be2c49b5",
   "metadata": {},
   "source": [
    "#### Задача 3. \n",
    "\n",
    "Выберите любой признак на WALS и перенесите карту для него оттуда в python с помощью folium."
   ]
  },
  {
   "cell_type": "code",
   "execution_count": null,
   "id": "300b1e0c-62ad-43f2-8800-811f7fd8c42f",
   "metadata": {},
   "outputs": [],
   "source": [
    "# your code here"
   ]
  }
 ],
 "metadata": {
  "kernelspec": {
   "display_name": "Python 3 (ipykernel)",
   "language": "python",
   "name": "python3"
  },
  "language_info": {
   "codemirror_mode": {
    "name": "ipython",
    "version": 3
   },
   "file_extension": ".py",
   "mimetype": "text/x-python",
   "name": "python",
   "nbconvert_exporter": "python",
   "pygments_lexer": "ipython3",
   "version": "3.11.5"
  }
 },
 "nbformat": 4,
 "nbformat_minor": 5
}
