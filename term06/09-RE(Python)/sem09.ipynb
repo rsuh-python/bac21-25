{
 "cells": [
  {
   "cell_type": "markdown",
   "id": "ce57e837-f8f8-4e88-91ba-a17718d5292a",
   "metadata": {},
   "source": [
    "#### Задача 1. \n",
    "\n",
    "Напишите скрипт, который будет находить первое встретившееся в тексте вхождение с адресом электронной почты. Если ни одного вхождения не было, можно напечатать \"адресов нет\". "
   ]
  },
  {
   "cell_type": "code",
   "execution_count": null,
   "id": "3133bfbf-9093-4a25-8b25-747a0e85b6df",
   "metadata": {},
   "outputs": [],
   "source": [
    "# your code here"
   ]
  },
  {
   "cell_type": "markdown",
   "id": "ced56bbd-e12b-4ac5-885e-5e8f14f2d4d4",
   "metadata": {},
   "source": [
    "#### Задача 2. \n",
    "\n",
    "Напишите скрипт, который будет находить все имена и расширения файлов с помощью регулярного выражения с группами: у вас должен получиться список кортежей из имен и расширений. "
   ]
  },
  {
   "cell_type": "code",
   "execution_count": null,
   "id": "4c073978-ae47-4e00-bbb1-c104a0ccd001",
   "metadata": {},
   "outputs": [],
   "source": [
    "# your code here"
   ]
  },
  {
   "cell_type": "markdown",
   "id": "1a29d15e-4764-404b-8996-cb4f8725ed97",
   "metadata": {},
   "source": [
    "#### Задача 3. \n",
    "\n",
    "Поиграем в цензуру: напишите скрипт, который будет находить в тексте все словоформы слова \"наркотик\" и заменять их на многоточия. Смотрите, чтобы не получилось \"...а\" - заменяем слово целиком. "
   ]
  },
  {
   "cell_type": "code",
   "execution_count": null,
   "id": "c001229e-29bf-4b92-ad7c-ad8c9041e04f",
   "metadata": {},
   "outputs": [],
   "source": [
    "# your code here"
   ]
  },
  {
   "cell_type": "markdown",
   "id": "61a07b8b-a2f1-44e9-874e-f39fe1768982",
   "metadata": {},
   "source": [
    "#### Задача 4. \n",
    "\n",
    "Напишите скрипт, который найдет в тексте все нецелые числа (причем точно так же числа могут быть с плавающей запятой или точкой), округлит их до двух знаков после запятой и заменит их вхождения в тексте. Циклами пользоваться запрещено. "
   ]
  },
  {
   "cell_type": "code",
   "execution_count": null,
   "id": "96619d27-263e-414e-b978-b4416de7d519",
   "metadata": {},
   "outputs": [],
   "source": [
    "# your code here"
   ]
  },
  {
   "cell_type": "markdown",
   "id": "c424ba89-4065-4ff6-9d44-43c23e427484",
   "metadata": {},
   "source": [
    "#### Задача 5. \n",
    "\n",
    "Напишите свой токенизатор (программа, которая делит текст на слова, числа и знаки пунктуации в том порядке, в каком они идут) с помощью шаблона с предыдущего семинара. С помощью групп класса Match попробуйте добиться того, чтобы токенизатор не просто выдавал токены, а дополнительно сообщал тип для каждого токена: это слово, число или пунктуация. Можно еще латинские и кириллические слова в отдельные классы выделить. "
   ]
  },
  {
   "cell_type": "code",
   "execution_count": null,
   "id": "17b8aa4a-14cd-4ef9-a8a5-3faa9b5e423c",
   "metadata": {},
   "outputs": [],
   "source": [
    "# your code here"
   ]
  },
  {
   "cell_type": "markdown",
   "id": "88a138ea-7e11-4daa-8a2d-d668e729f587",
   "metadata": {},
   "source": [
    "#### Задача 5+. \n",
    "\n",
    "Если перепишете этот токенизатор в классах, + балл. "
   ]
  },
  {
   "cell_type": "code",
   "execution_count": null,
   "id": "6f05fc97-663e-43b2-a0ca-a5084ee4f724",
   "metadata": {},
   "outputs": [],
   "source": [
    "class Token:\n",
    "    ... \n",
    "    \n",
    "class Tokenizer:\n",
    "    ...\n",
    "    def tokenize(self, raw):\n",
    "        ...\n",
    "    \n",
    "tokenizer = Tokenizer()\n",
    "raw = '...'\n",
    "tokens = tokenizer.tokenize(raw)"
   ]
  }
 ],
 "metadata": {
  "kernelspec": {
   "display_name": "Python 3 (ipykernel)",
   "language": "python",
   "name": "python3"
  },
  "language_info": {
   "codemirror_mode": {
    "name": "ipython",
    "version": 3
   },
   "file_extension": ".py",
   "mimetype": "text/x-python",
   "name": "python",
   "nbconvert_exporter": "python",
   "pygments_lexer": "ipython3",
   "version": "3.11.5"
  }
 },
 "nbformat": 4,
 "nbformat_minor": 5
}
