{
 "cells": [
  {
   "cell_type": "markdown",
   "id": "e42dfdc9-50c1-42dc-a395-f6876bf430cb",
   "metadata": {},
   "source": [
    "#### Задача 1.\n",
    "\n",
    "Напишите функцию, которая будет принимать число и **возвращать** сумму квадратов всех натуральных чисел от 1 до этого числа включительно. "
   ]
  },
  {
   "cell_type": "code",
   "execution_count": null,
   "id": "109d0d3b-0876-425d-8b2c-256dbe6a9741",
   "metadata": {},
   "outputs": [],
   "source": [
    "def squaresum(n):\n",
    "    # your code here \n",
    "\n",
    "squaresum(9)"
   ]
  },
  {
   "cell_type": "markdown",
   "id": "b20df9ed-78f3-4bb4-b145-a57dcf547161",
   "metadata": {},
   "source": [
    "#### Задача 2. \n",
    "\n",
    "Вам и вашим однокурсникам нужно переписать конспект, и вы решили скинуться на чистую бумагу для этого благородного занятия. Вам известно, что в конспекте должно быть m страниц, а однокурсников у вас n человек. Бумага при этом стоит х рублей за лист, причем если один из ваших однокурсников не уточнил цену в магазине, вы считаете, что по умолчанию эта цена - 1.5 рубля. Напишите функцию для подсчета стоимости бумаги, которая будет принимать три аргумента, один из которых имеет дефолтное значение. "
   ]
  },
  {
   "cell_type": "code",
   "execution_count": null,
   "id": "bfe3270b-968c-449f-9e6e-8f9e69078a70",
   "metadata": {},
   "outputs": [],
   "source": [
    "def paperprice(???):\n",
    "    # your code here"
   ]
  },
  {
   "cell_type": "markdown",
   "id": "f0a02429-db1e-44d6-8ee8-d5991a464bad",
   "metadata": {},
   "source": [
    "#### Задача 3. \n",
    "\n",
    "Напишите функцию, которая будет принимать строку, состоящую из чисел и букв латинского или кириллического алфавита. Функция должна возвращать различные буквы и цифры, которые встречаются в этой строке больше одного раза, и их количество например, для строки \"ааббaabb12\" (в которой две буквы а - кириллические, а еще две - латинские) должно вернуться что-то вроде: \"4 - а, б, a, b)."
   ]
  },
  {
   "cell_type": "code",
   "execution_count": null,
   "id": "ae2ba28b-0ed9-4bd1-bb0d-5526ed0e6561",
   "metadata": {},
   "outputs": [],
   "source": [
    "def count_duplicates(string):\n",
    "    # your code here\n",
    "\n",
    "count_duplicates(\"ааббaabb12\")"
   ]
  },
  {
   "cell_type": "markdown",
   "id": "5b2fc023-01a0-4d19-80da-fab8412ac5be",
   "metadata": {},
   "source": [
    "#### Задача 4. \n",
    "\n",
    "Функция принимает список целых чисел. Функция должна вернуть сумму двух самых маленьких **положительных** чисел: например, для списка [19, 5, 42, 2, 77] должно вернуться 7 (5 + 2). "
   ]
  },
  {
   "cell_type": "code",
   "execution_count": null,
   "id": "60d81f46-25b5-40e4-b329-555e87517af0",
   "metadata": {},
   "outputs": [],
   "source": [
    "def minpositive_sum(lst):\n",
    "    # your code here \n",
    "\n",
    "minpositive_sum([-1, 2, 5, 3, 7, 5]) # 5"
   ]
  },
  {
   "cell_type": "markdown",
   "id": "6a878f9b-d756-4395-a475-013b9e7c0134",
   "metadata": {},
   "source": [
    "#### Задача 5. \n",
    "\n",
    "В файле syntagrus_tiny.conllu (на самом деле это обычный текстовый файл, который можно открыть любым текстовым редактором) содержится морфосинтаксическая разметка в формате [Universal Dependencies](https://universaldependencies.org/). В этом файле содержится три размеченных предложения. Каждое предложение имеет свой ID (# sent_id = ), исходный текст (# text = ) и собственно пословную разметку. Попробуйте прочитать информацию из файла таким образом, чтобы получился словарь, в котором ключами будут выступать ID предложений, а в значениях будет лежать еще словарь с ключами text и tokens, где text - это исходный текст предложения, а tokens - список всех его слов (каждое отдельное слово может быть тоже списком - обратите внимание, что значения в разметке разделяются знаками табуляции \\t!). Как понять, что в строке файла содержится разметка слова? Все такие строки обязательно начинаются на числа. \n",
    "\n",
    "Внешними библиотеками пользоваться пока нельзя. \n",
    "\n",
    "Чтобы загрузить файл на колаб, можно воспользоваться командой wget:"
   ]
  },
  {
   "cell_type": "code",
   "execution_count": null,
   "id": "53bde04f-5843-4393-8722-b858f2de558b",
   "metadata": {},
   "outputs": [],
   "source": [
    "!wget https://raw.githubusercontent.com/rsuh-python/bac21-25/main/term06/01-Exercise/syntagrus_tiny.conllu"
   ]
  },
  {
   "cell_type": "code",
   "execution_count": null,
   "id": "f29824ae-474c-49a4-8655-ddaca4d031a5",
   "metadata": {},
   "outputs": [],
   "source": [
    "from collections import defaultdict # возможно, вам понадобится...\n",
    "\n",
    "def readconllu(path):\n",
    "    data = ...\n",
    "    # your code here\n",
    "    return data\n",
    "\n",
    "data = readconllu('syntagrus_tiny.conllu')"
   ]
  },
  {
   "cell_type": "markdown",
   "id": "9db22480-a9e4-43a5-9034-1cbe9e0377b2",
   "metadata": {},
   "source": [
    "#### Задача 6.\n",
    "\n",
    "Продолжим работать над conll-файлом: попробуйте отыскать в разметке, где обозначаются части речи, и посчитайте, какие и в каком количестве встречаются в наших трех предложениях. Вывод должен выглядеть примерно так:\n",
    "\n",
    "    POS       %\n",
    "    NOUN   15.2\n",
    "\n",
    "(Проценты можно посчитать, поделив на общее число слов, ну и не забудьте про красивый вывод с помощью f-строк)."
   ]
  },
  {
   "cell_type": "code",
   "execution_count": null,
   "id": "d0d05d7b-0d79-45eb-92d0-cc41359b2a6b",
   "metadata": {},
   "outputs": [],
   "source": [
    "from collections import Counter\n",
    "\n",
    "def poscounter(data): \n",
    "    count = ...\n",
    "    # your code here\n",
    "    return count\n",
    "\n",
    "poscounter(data)"
   ]
  },
  {
   "cell_type": "markdown",
   "id": "ee6fe91e-45f4-426e-8bda-abea72507653",
   "metadata": {},
   "source": [
    "#### Задача 7. \n",
    "\n",
    "А теперь попробуем отсеять все знаки пунктуации с помощью тегов (обратите внимание на их часть речи) и посчитаем количество уникальных слов в наших трех предложениях."
   ]
  },
  {
   "cell_type": "code",
   "execution_count": null,
   "id": "c9974da6-0310-495c-9741-989befe3639e",
   "metadata": {},
   "outputs": [],
   "source": [
    "def uniquewords(data):\n",
    "    # your code here\n",
    "    print(...)\n",
    "\n",
    "uniquewords(data)"
   ]
  },
  {
   "cell_type": "markdown",
   "id": "3b981f61-7376-42c3-8274-3e6643c891ef",
   "metadata": {},
   "source": [
    "#### Задача 8. \n",
    "\n",
    "Посчитайте количество слов, которые по форме совпадают со своей леммой. "
   ]
  },
  {
   "cell_type": "code",
   "execution_count": null,
   "id": "ab785ac6-e6b0-4c77-8610-bd31345e3753",
   "metadata": {},
   "outputs": [],
   "source": [
    "def lemmas(data):\n",
    "    #your code here\n",
    "    print(...)\n",
    "\n",
    "lemmas(data)"
   ]
  }
 ],
 "metadata": {
  "kernelspec": {
   "display_name": "Python 3 (ipykernel)",
   "language": "python",
   "name": "python3"
  },
  "language_info": {
   "codemirror_mode": {
    "name": "ipython",
    "version": 3
   },
   "file_extension": ".py",
   "mimetype": "text/x-python",
   "name": "python",
   "nbconvert_exporter": "python",
   "pygments_lexer": "ipython3",
   "version": "3.12.1"
  }
 },
 "nbformat": 4,
 "nbformat_minor": 5
}
