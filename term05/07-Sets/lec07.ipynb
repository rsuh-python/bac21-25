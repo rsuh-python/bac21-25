{
 "cells": [
  {
   "cell_type": "markdown",
   "id": "83b7970f-5ff4-4bbc-8df6-62da9bdd733f",
   "metadata": {},
   "source": [
    "## Множества"
   ]
  },
  {
   "cell_type": "markdown",
   "id": "355e08b5-0b80-4caa-8c67-e93f0144cf22",
   "metadata": {
    "id": "8HTYKcUGc0bJ"
   },
   "source": [
    "Множества - это объекты, которые работают в точности как множества в мат.логике. Множество - это набор элементов; как и списки, множества изменяемые и итерируемые. \n",
    "\n",
    "Особенность множеств состоит в том, что у них нет индексации, поэтому во множестве могут находиться только хешируемые (неизменяемые) объекты: питону же надо как-то быстро их находить, а если индексов нет, он ищет объекты по хешу. \n",
    "\n",
    "С этим же связано то, что в множестве могут быть только *уникальные* объекты. Если мы попытаемся добавить во множество объект, который там уже есть, ничего не произойдет. "
   ]
  },
  {
   "cell_type": "markdown",
   "id": "5a3954a7-2ddd-4f45-b974-4f3a00f26be0",
   "metadata": {
    "id": "R4zsxS-wdR2J"
   },
   "source": [
    "Как задавать множества?\n",
    "\n",
    "1. Явно в коде:\n",
    "\n",
    "\n",
    "    S = {1, 2, 3}\n",
    "    S = {'1', '2', '3'}\n",
    "    S = {[1], [2], [3]} - вызовет ошибку!\n",
    "\n",
    "2. Завести пустое множество и добавлять в него элементы. \n",
    "\n",
    "\n",
    "    S = set()\n",
    "    for i in <iterable>:\n",
    "      S.add(...)\n",
    "\n",
    "Обратите внимание, что множества, в отличие от списков, нельзя задавать просто {}: так получится не множество! Всегда пишем только set().\n",
    "\n",
    "3. Явное преобразование:\n",
    "\n",
    "\n",
    "    A = [1, 2, 3]\n",
    "    S = set(A)\n",
    "\n",
    "4. Генератором:\n",
    "\n",
    "\n",
    "    S = {func(x) for x in <iterable> if x}"
   ]
  },
  {
   "cell_type": "markdown",
   "id": "c7614265-2ced-461a-bdc7-966c6ea23df7",
   "metadata": {
    "id": "TYD88_w6eLtF"
   },
   "source": [
    "**Методы множеств:**\n",
    "\n",
    "1. Добавляет элементы: set.add(elem)\n",
    "\n",
    "2. Удаляет конкретный элемент: set.discard(elem)\n",
    "\n",
    "*Операторы множеств и соответствующие им методы*\n",
    "\n",
    "Главное отличие операторов от методов в том, что у оператора и слева, и справа обязательно должно стоять множество, а метод может в скобочках принимать любой итерируемый объект. \n",
    "\n",
    "1. Конъюнкция (объединение):\n",
    "\n",
    "\n",
    "    A | B\n",
    "    A.union(B)\n",
    "\n",
    "2. Дизъюнкция (пересечение):\n",
    "\n",
    "\n",
    "    A & B\n",
    "    A.intersection(B)\n",
    "\n",
    "3. Разность:\n",
    "\n",
    "\n",
    "    A - B\n",
    "    A.difference(B)\n",
    "\n",
    "4. Симметрическая разность:\n",
    "\n",
    "\n",
    "    A ^ B\n",
    "    A.symmetric_difference(B)"
   ]
  },
  {
   "cell_type": "code",
   "execution_count": null,
   "id": "a41f09c8-bb08-47c2-9f9b-51a53f045d86",
   "metadata": {
    "id": "fC3wiLaqfG6i"
   },
   "outputs": [],
   "source": [
    "A = {1, 2, 3}\n",
    "B = {2, 3, 4}\n",
    "print('Union:', A | B)\n",
    "print('Intersection:', A & B)\n",
    "print('Difference A - B:', A - B)\n",
    "print('Difference B - A:', B - A)\n",
    "print('Symmetric difference:', A ^ B)"
   ]
  },
  {
   "cell_type": "markdown",
   "id": "26413861-3bb9-4a9d-b45f-2283191968d4",
   "metadata": {
    "id": "sAC8MSuPgKjb"
   },
   "source": [
    "**Проверки множеств**\n",
    "\n",
    "Это про понятие подмножества и надмножества. "
   ]
  },
  {
   "cell_type": "code",
   "execution_count": null,
   "id": "2906a64e-f32e-4bbe-9667-7b32103b7e96",
   "metadata": {
    "id": "S1TlBPJ7gTSh"
   },
   "outputs": [],
   "source": [
    "A = {1, 2, 3, 4, 5}\n",
    "B = {1, 2, 3}\n",
    "C = {6, 7, 8}\n",
    "print('А является надмножеством В:', A.issuperset(B))\n",
    "print('В является подмножеством А:', B.issubset(A))\n",
    "print('А и С не пересекаются:', A.isdisjoint(C))"
   ]
  }
 ],
 "metadata": {
  "kernelspec": {
   "display_name": "Python 3 (ipykernel)",
   "language": "python",
   "name": "python3"
  },
  "language_info": {
   "codemirror_mode": {
    "name": "ipython",
    "version": 3
   },
   "file_extension": ".py",
   "mimetype": "text/x-python",
   "name": "python",
   "nbconvert_exporter": "python",
   "pygments_lexer": "ipython3",
   "version": "3.9.12"
  }
 },
 "nbformat": 4,
 "nbformat_minor": 5
}
