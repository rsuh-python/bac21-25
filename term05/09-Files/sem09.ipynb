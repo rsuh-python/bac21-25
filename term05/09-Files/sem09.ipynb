{
 "cells": [
  {
   "cell_type": "markdown",
   "id": "15873bf1-c3ba-48c4-b0c1-4f082679c6c4",
   "metadata": {
    "id": "LibPFLQozaov"
   },
   "source": [
    "1. Нужно открыть текстовый файл и считать из него текст в виде списка слов без пунктуации."
   ]
  },
  {
   "cell_type": "code",
   "execution_count": null,
   "id": "5c21f123-4f41-4bb9-96b4-32317007dd8a",
   "metadata": {
    "colab": {
     "base_uri": "https://localhost:8080/",
     "height": 53
    },
    "executionInfo": {
     "elapsed": 321,
     "status": "ok",
     "timestamp": 1673949878408,
     "user": {
      "displayName": "Alexandra Ivoylova",
      "userId": "06069991353189522669"
     },
     "user_tz": -180
    },
    "id": "b2DItuIAyZkU",
    "outputId": "ee402603-28fd-4495-accb-337517ff4361"
   },
   "outputs": [],
   "source": [
    "# my code here"
   ]
  },
  {
   "cell_type": "markdown",
   "id": "e22dbf17-7421-4e25-942d-4a8e67c4e022",
   "metadata": {
    "id": "Xx3k8cmZzjmP"
   },
   "source": [
    "2. Нужно записать получившийся список слов по слову на строчке в новый файл. "
   ]
  },
  {
   "cell_type": "code",
   "execution_count": null,
   "id": "b25d104b-1e6d-4621-9e8d-d4a0f737712c",
   "metadata": {
    "executionInfo": {
     "elapsed": 4,
     "status": "ok",
     "timestamp": 1673949931045,
     "user": {
      "displayName": "Alexandra Ivoylova",
      "userId": "06069991353189522669"
     },
     "user_tz": -180
    },
    "id": "5QcD2trJztLG"
   },
   "outputs": [],
   "source": [
    "# my code here"
   ]
  },
  {
   "cell_type": "markdown",
   "id": "0c1ec02e-b691-4d7b-b45a-a986dba521eb",
   "metadata": {
    "id": "mMALvWkAztc_"
   },
   "source": [
    "3. У нас есть объект питона: словарь. Нужно записать его в бинарный файл, а потом снова считать его. "
   ]
  },
  {
   "cell_type": "code",
   "execution_count": null,
   "id": "0957fc9c-1d0c-46c6-bb2f-3ccea8629688",
   "metadata": {
    "id": "e268njIk0UmO"
   },
   "outputs": [],
   "source": [
    "# my code here"
   ]
  },
  {
   "cell_type": "markdown",
   "id": "d42096f0-a7a9-4fc5-85ad-2d6a2cc9875d",
   "metadata": {
    "id": "FkSe1ZSa0UyO"
   },
   "source": [
    "4. У нас есть файл, выкачанный из твиттера в формате json. Нужно считать его и отделить все твиты. "
   ]
  },
  {
   "cell_type": "code",
   "execution_count": null,
   "id": "95ca4795-f039-42ce-93e2-f5c66422b6d5",
   "metadata": {
    "colab": {
     "base_uri": "https://localhost:8080/"
    },
    "executionInfo": {
     "elapsed": 2459,
     "status": "ok",
     "timestamp": 1673950020698,
     "user": {
      "displayName": "Alexandra Ivoylova",
      "userId": "06069991353189522669"
     },
     "user_tz": -180
    },
    "id": "yzJg0VHJ0cxP",
    "outputId": "306abd50-60a4-488f-abbc-2417a8ff89ca"
   },
   "outputs": [],
   "source": [
    "!wget https://raw.githubusercontent.com/rsuh-python/bac21-25/main/term05/09-Files/files/google.json"
   ]
  },
  {
   "cell_type": "code",
   "execution_count": null,
   "id": "8ce25dad-cad4-48b4-ad05-39cf47c664bb",
   "metadata": {
    "colab": {
     "base_uri": "https://localhost:8080/"
    },
    "executionInfo": {
     "elapsed": 1593,
     "status": "ok",
     "timestamp": 1673950151111,
     "user": {
      "displayName": "Alexandra Ivoylova",
      "userId": "06069991353189522669"
     },
     "user_tz": -180
    },
    "id": "DIuODxi58QHe",
    "outputId": "93441888-64c2-4c43-c0b1-380d32e700cb"
   },
   "outputs": [],
   "source": [
    "# my code here"
   ]
  },
  {
   "cell_type": "markdown",
   "id": "942a7f58-4f36-4ea8-acd0-147a00aeaf9d",
   "metadata": {
    "id": "pxaSNAMI0dA2"
   },
   "source": [
    "5. Хотим записать список каких-то объектов в формате .json, а потом его считать обратно. "
   ]
  },
  {
   "cell_type": "code",
   "execution_count": null,
   "id": "55377320-c31f-48bc-bc1c-0ae9786f1108",
   "metadata": {
    "id": "E1GlDJyJ0udX"
   },
   "outputs": [],
   "source": [
    "# my code here"
   ]
  },
  {
   "cell_type": "markdown",
   "id": "8cef6745-29d6-4ed7-af21-e2f235dcc9a6",
   "metadata": {
    "id": "or6dzonq0vzN"
   },
   "source": [
    "#### Задача 1. \n",
    "\n",
    "Запустите ячейку ниже. В '/content/01-1.txt' загрузится файл, в котором содержатся несколько строк, и в некоторых строках есть символ '@'. Перезапишите строки в новый файл таким образом, чтобы в него попали только строки без @, отсортированные по алфавиту. "
   ]
  },
  {
   "cell_type": "code",
   "execution_count": null,
   "id": "96d69582-0ead-4cbf-927f-4751715f391d",
   "metadata": {
    "id": "oFIdgoBc2Cwm"
   },
   "outputs": [],
   "source": [
    "!wget https://raw.githubusercontent.com/rsuh-python/bac21-25/main/term05/09-Files/files/01-1.txt"
   ]
  },
  {
   "cell_type": "code",
   "execution_count": null,
   "id": "ed817568-4e53-40fc-886d-8b69bb86d12f",
   "metadata": {
    "id": "5btFuGCf2lJn"
   },
   "outputs": [],
   "source": [
    "# your code here"
   ]
  },
  {
   "cell_type": "markdown",
   "id": "39c126dd-721a-4764-acc3-ea849b34be5b",
   "metadata": {
    "id": "HJ97fggq2mE-"
   },
   "source": [
    "#### Задача 2. \n",
    "\n",
    "Сделайте то же с ячейкой ниже, загрузится файл 01-2.txt, в котором записано стихотворение без знаков препинания. Перезапишите его в новый файл таким образом, чтобы все слова в строчках были задом наперед. "
   ]
  },
  {
   "cell_type": "code",
   "execution_count": null,
   "id": "2c8ebdc0-1df2-4d0d-b331-e0c21db75d58",
   "metadata": {
    "id": "SoB72BOL27Le"
   },
   "outputs": [],
   "source": [
    "!wget https://raw.githubusercontent.com/rsuh-python/bac21-25/main/term05/09-Files/files/01-2.txt"
   ]
  },
  {
   "cell_type": "code",
   "execution_count": null,
   "id": "b1eca8f0-0041-4d54-9288-eff4be24a7fd",
   "metadata": {
    "id": "zfJkfKld5JAO"
   },
   "outputs": [],
   "source": [
    "# your code here"
   ]
  },
  {
   "cell_type": "markdown",
   "id": "e2316971-fc46-41e6-8265-076b2b5d63bf",
   "metadata": {},
   "source": [
    "#### Задача 3.\n",
    "\n",
    "Запишите любой текстовый файл в папку с путем /myfolder/myfile. Не создавайте эти папки руками в проводнике, программа должна сама их завести."
   ]
  },
  {
   "cell_type": "code",
   "execution_count": null,
   "id": "37e34711-8ac8-4cca-8936-da1c1eb3f963",
   "metadata": {
    "tags": []
   },
   "outputs": [],
   "source": [
    "# your code here"
   ]
  },
  {
   "cell_type": "markdown",
   "id": "02a67b0c-a32f-4810-bf6a-5a83f47cbf2d",
   "metadata": {
    "tags": []
   },
   "source": [
    "#### Задача 4.\n",
    "\n",
    "Возьмите любой текстовый файл с кодировкой, отличной от utf8, и перезапишите его в кодировке utf8. Как изменяется размер файла?"
   ]
  },
  {
   "cell_type": "code",
   "execution_count": null,
   "id": "a446f49e-b6ae-42c4-a386-73d1de6b29fd",
   "metadata": {
    "tags": []
   },
   "outputs": [],
   "source": [
    "# your code here"
   ]
  },
  {
   "cell_type": "markdown",
   "id": "a5f893f5-f628-4373-b799-9a9de03aaa0d",
   "metadata": {},
   "source": [
    "#### Задача 5. \n",
    "\n",
    "В папке лежат разные файлы, некоторые из них с расширением .txt, другие нет. В текстовых файлах хранятся тексты, которые вам нужны. Напишите скрипт, который будет проходить по всем файлам в папке, открывать только текстовые файлы и считать количество слов в них. Вам необходимо будет также подумать про самую простую токенизацию (разделение на слова): split() будет недостаточно, ведь нужно еще избавиться от пунктуации. Можно ее, например, удалять с помощью каких-то методов строк. "
   ]
  },
  {
   "cell_type": "code",
   "execution_count": null,
   "id": "e77c40c6-a01d-4060-9686-8537fe4c85a3",
   "metadata": {
    "tags": []
   },
   "outputs": [],
   "source": [
    "# your code here"
   ]
  },
  {
   "cell_type": "markdown",
   "id": "b362fa3a-2ec9-48b6-955c-2efedcaa0d55",
   "metadata": {
    "id": "TGyRYtqx7Wmf"
   },
   "source": [
    "#### Задача 6.\n",
    "\n",
    "Загрузите файл в формате .json по ссылке. Разберитесь с его устройством. Извлеките все тексты, которые размечены как \"author\". Разметка находится где-то здесь: \n",
    "\n",
    "    \"choices\": [\n",
    "        \"author\""
   ]
  },
  {
   "cell_type": "code",
   "execution_count": null,
   "id": "ec0c36c1-e978-433a-a83f-0928d78dc2c4",
   "metadata": {
    "id": "uEE_ltyh79gm"
   },
   "outputs": [],
   "source": [
    "!wget https://raw.githubusercontent.com/rsuh-python/bac21-25/main/term05/09-Files/files/13.json"
   ]
  },
  {
   "cell_type": "code",
   "execution_count": null,
   "id": "b5da5cec-39f4-4e96-ae57-90abf68e9ced",
   "metadata": {
    "id": "ihble9Kh7-3e"
   },
   "outputs": [],
   "source": [
    "# your code here"
   ]
  }
 ],
 "metadata": {
  "kernelspec": {
   "display_name": "Python 3 (ipykernel)",
   "language": "python",
   "name": "python3"
  },
  "language_info": {
   "codemirror_mode": {
    "name": "ipython",
    "version": 3
   },
   "file_extension": ".py",
   "mimetype": "text/x-python",
   "name": "python",
   "nbconvert_exporter": "python",
   "pygments_lexer": "ipython3",
   "version": "3.9.12"
  }
 },
 "nbformat": 4,
 "nbformat_minor": 5
}
