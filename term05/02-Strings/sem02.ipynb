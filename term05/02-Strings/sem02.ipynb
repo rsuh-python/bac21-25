{
 "cells": [
  {
   "cell_type": "markdown",
   "id": "057901d2-93bf-4865-a3c7-ef29f39bd8d5",
   "metadata": {},
   "source": [
    "#### Задача 1. \n",
    "\n",
    "Пользователь вводит строчку, в которой попадаются символы \"@\". Нужно удалить все такие символы."
   ]
  },
  {
   "cell_type": "code",
   "execution_count": null,
   "id": "64a85dae-f43c-4e0e-b900-92099cf6a782",
   "metadata": {},
   "outputs": [],
   "source": [
    "# your code here"
   ]
  },
  {
   "cell_type": "markdown",
   "id": "7aca1815-ca3c-4404-9dde-d127a74a6eb1",
   "metadata": {},
   "source": [
    "#### Задача 2.\n",
    "\n",
    "Пользователь ввел несколько слов, разделенных пробелами. Посчитайте количество слов в строке (если знаете несколько способов - сделайте это несколькими способами)."
   ]
  },
  {
   "cell_type": "code",
   "execution_count": null,
   "id": "976e3d75-8416-4c84-a2c5-9fde10d390c0",
   "metadata": {},
   "outputs": [],
   "source": [
    "# your code here"
   ]
  },
  {
   "cell_type": "markdown",
   "id": "a37abcb4-fb0a-4608-87b1-2f06a0faebaa",
   "metadata": {},
   "source": [
    "#### Задача 3.\n",
    "\n",
    "Пользователь вводит некий инфинитив глагола. Программа должна проверить, заканчивается ли глагол на -ся и содержит ли он приставку \"пере\" (т.е., начинается с нее). Можно использовать методы, а можно срезы."
   ]
  },
  {
   "cell_type": "code",
   "execution_count": null,
   "id": "0ba49a97-fb56-48cf-a625-bbf94968eb44",
   "metadata": {},
   "outputs": [],
   "source": [
    "# your code here"
   ]
  },
  {
   "cell_type": "markdown",
   "id": "cc30d2fa-2ddb-494e-abad-d56766b97c60",
   "metadata": {},
   "source": [
    "#### Задача 4.\n",
    "\n",
    "Дано положительное действительное число X. Выведите его первую цифру после десятичной точки, используя методы строк."
   ]
  },
  {
   "cell_type": "code",
   "execution_count": null,
   "id": "3f8e2fa0-63aa-4453-8103-e530aa31f892",
   "metadata": {},
   "outputs": [],
   "source": [
    "# your code here"
   ]
  },
  {
   "cell_type": "markdown",
   "id": "a665e8c7-6f59-490f-930f-bd3b0ae1d3e8",
   "metadata": {},
   "source": [
    "#### Задача 5.\n",
    "\n",
    "Пользователь вводит что-то с клавиатуры в цикле, предположительно, целые числа. Программа должна возвращать квадраты этих чисел, а если пользователь ввел что-то кроме числа, прекратить работу с сообщением об этом."
   ]
  },
  {
   "cell_type": "code",
   "execution_count": null,
   "id": "971e8581-7dcf-40ca-a739-6da9cb959f20",
   "metadata": {},
   "outputs": [],
   "source": [
    "# your code here"
   ]
  },
  {
   "cell_type": "markdown",
   "id": "2b5b6174-b444-4c06-9eb1-74575cc6707d",
   "metadata": {},
   "source": [
    "#### Задача 6.\n",
    "\n",
    "Нужно вывести таблицу умножения: на первой строчке выводятся 1 2 3 4 5 6 7 8 9, на второй 2 4 6 8 ...  и так далее. "
   ]
  },
  {
   "cell_type": "code",
   "execution_count": null,
   "id": "ff350292-4693-45be-8b86-1b5449785e89",
   "metadata": {},
   "outputs": [],
   "source": [
    "# your code here"
   ]
  },
  {
   "cell_type": "markdown",
   "id": "e529738e-62c5-4d26-9c1b-fc26ad4c7e18",
   "metadata": {},
   "source": [
    "#### Задача 7.\n",
    "\n",
    "Пользователь вводит какие-то строки, которые наша программа должна приводить в \"заголовочный\" вид: все слова в строке с заглавной буквы. Когда пользователь вводит \"стоп\", программа должна завершить работу, причем ей неважно, в каком регистре введен \"стоп\", хоть заборчиком."
   ]
  },
  {
   "cell_type": "code",
   "execution_count": null,
   "id": "325072b8-c286-401a-b87b-864109ab6363",
   "metadata": {},
   "outputs": [],
   "source": [
    "# your code here"
   ]
  },
  {
   "cell_type": "markdown",
   "id": "de18633b-ca55-4948-ba03-183424e8126e",
   "metadata": {},
   "source": [
    "#### Задача 8.\n",
    "\n",
    "Соберем, кстати, заборчик: пользователь вводит какое-то слово маленькими буквами, а мы должны его собрать таким образом, чтобы каждая вторая буква была заглавной."
   ]
  },
  {
   "cell_type": "code",
   "execution_count": null,
   "id": "86e5b65f-6257-4879-b9ab-a9b905974f02",
   "metadata": {},
   "outputs": [],
   "source": [
    "# your code here"
   ]
  },
  {
   "cell_type": "markdown",
   "id": "040c0a78-49e6-4bfb-ac72-6d5bd3cfded3",
   "metadata": {},
   "source": [
    "#### Задача 9.\n",
    "\n",
    "Пользователь вводит предложение (с пробелами, но без пунктуации). Проверьте, является ли это предложение палиндромом. Для тестирования можно использовать:\n",
    "\n",
    "    Аргентина манит негра\n",
    "    А роза упала на лапу Азора"
   ]
  },
  {
   "cell_type": "code",
   "execution_count": null,
   "id": "3ca91633-6e0c-4fd6-b688-3c22394f7069",
   "metadata": {},
   "outputs": [],
   "source": [
    "# your code here"
   ]
  },
  {
   "cell_type": "markdown",
   "id": "9817e5e0-b5ac-4b38-ab9b-0aa43abc346d",
   "metadata": {},
   "source": [
    "#### Задача 10.\n",
    "\n",
    "Пользователь вводит целое число, в котором заранее мы не знаем, сколько цифр. Программа должна вернуть сумму цифр этого числа. "
   ]
  },
  {
   "cell_type": "code",
   "execution_count": null,
   "id": "fac6a69b-3ff9-468a-9b10-198dc5fb2143",
   "metadata": {},
   "outputs": [],
   "source": [
    "# your code here"
   ]
  },
  {
   "cell_type": "markdown",
   "id": "5369f64d-1ea0-4179-9fdc-b426d4103a8f",
   "metadata": {},
   "source": [
    "#### Задача 11.\n",
    "\n",
    "Пользователь вводит любое число n. Программа должна вернуть строчку \"n корова\", причем слово \"корова\" должно согласоваться с числом: 1 корова, но 5 коров.  "
   ]
  },
  {
   "cell_type": "code",
   "execution_count": null,
   "id": "ea049d65-86eb-437d-98ee-34a213d7b08d",
   "metadata": {},
   "outputs": [],
   "source": [
    "# your code here"
   ]
  },
  {
   "cell_type": "markdown",
   "id": "5dd1abce-ad6e-4a64-bf0d-43bab643a283",
   "metadata": {},
   "source": [
    "#### Задача 12.\n",
    "\n",
    "Напишем программу для проверки подобранных рифм: пользователь в цикле вводит два слова, программа должна проверить, что у них совпадает не меньше четырех последних букв (будем наивно считать, что все читается, как пишется). Цикл останавливается, если первое из введенных слов не содержит букв. "
   ]
  },
  {
   "cell_type": "code",
   "execution_count": null,
   "id": "d6cb1dc9-fe61-420e-b588-586ded160697",
   "metadata": {},
   "outputs": [],
   "source": [
    "# your code here"
   ]
  }
 ],
 "metadata": {
  "kernelspec": {
   "display_name": "Python 3 (ipykernel)",
   "language": "python",
   "name": "python3"
  },
  "language_info": {
   "codemirror_mode": {
    "name": "ipython",
    "version": 3
   },
   "file_extension": ".py",
   "mimetype": "text/x-python",
   "name": "python",
   "nbconvert_exporter": "python",
   "pygments_lexer": "ipython3",
   "version": "3.9.12"
  }
 },
 "nbformat": 4,
 "nbformat_minor": 5
}
