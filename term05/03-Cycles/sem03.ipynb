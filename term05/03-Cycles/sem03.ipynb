{
 "cells": [
  {
   "cell_type": "markdown",
   "metadata": {},
   "source": [
    "#### Задача 1.\n",
    "\n",
    "Пользователь вводит какие-то строки, которые наша программа должна приводить в \"заголовочный\" вид: все слова в строке с заглавной буквы. Когда пользователь вводит \"стоп\", программа должна завершить работу, причем ей неважно, в каком регистре введен \"стоп\", хоть заборчиком."
   ]
  },
  {
   "cell_type": "code",
   "execution_count": null,
   "metadata": {},
   "outputs": [],
   "source": [
    "# your code here"
   ]
  },
  {
   "cell_type": "markdown",
   "metadata": {},
   "source": [
    "#### Задача 2.\n",
    "\n",
    "Соберем, кстати, заборчик: пользователь вводит какое-то слово маленькими буквами, а мы должны его собрать таким образом, чтобы каждая вторая буква была заглавной."
   ]
  },
  {
   "cell_type": "code",
   "execution_count": null,
   "metadata": {},
   "outputs": [],
   "source": [
    "# your code here"
   ]
  },
  {
   "cell_type": "markdown",
   "metadata": {},
   "source": [
    "#### Задача 3.\n",
    "\n",
    "Пользователь вводит предложение (с пробелами, но без пунктуации). Проверьте, является ли это предложение палиндромом. Для тестирования можно использовать:\n",
    "\n",
    "    Аргентина манит негра\n",
    "    А роза упала на лапу Азора"
   ]
  },
  {
   "cell_type": "code",
   "execution_count": null,
   "metadata": {},
   "outputs": [],
   "source": [
    "# your code here"
   ]
  },
  {
   "cell_type": "markdown",
   "metadata": {},
   "source": [
    "#### Задача 4.\n",
    "\n",
    "Пользователь вводит целое число, в котором заранее мы не знаем, сколько цифр. Программа должна вернуть сумму цифр этого числа. "
   ]
  },
  {
   "cell_type": "code",
   "execution_count": null,
   "metadata": {},
   "outputs": [],
   "source": [
    "# your code here"
   ]
  },
  {
   "cell_type": "markdown",
   "metadata": {},
   "source": [
    "#### Задача 5.\n",
    "\n",
    "Пользователь вводит любое число n. Программа должна вернуть строчку \"n корова\", причем слово \"корова\" должно согласоваться с числом: 1 корова, но 5 коров.  "
   ]
  },
  {
   "cell_type": "code",
   "execution_count": null,
   "metadata": {},
   "outputs": [],
   "source": [
    "# your code here"
   ]
  },
  {
   "cell_type": "markdown",
   "metadata": {},
   "source": [
    "#### Задача 6.\n",
    "\n",
    "Напишем программу для проверки подобранных рифм: пользователь в цикле вводит два слова, программа должна проверить, что у них совпадает не меньше четырех последних букв (будем наивно считать, что все читается, как пишется). Цикл останавливается, если первое из введенных слов не содержит букв. "
   ]
  },
  {
   "cell_type": "code",
   "execution_count": null,
   "metadata": {},
   "outputs": [],
   "source": [
    "# your code here"
   ]
  }
 ],
 "metadata": {
  "colab": {
   "authorship_tag": "ABX9TyMf460K+fWf9O4Z5QUvTOib",
   "collapsed_sections": [],
   "provenance": []
  },
  "kernelspec": {
   "display_name": "Python 3 (ipykernel)",
   "language": "python",
   "name": "python3"
  },
  "language_info": {
   "codemirror_mode": {
    "name": "ipython",
    "version": 3
   },
   "file_extension": ".py",
   "mimetype": "text/x-python",
   "name": "python",
   "nbconvert_exporter": "python",
   "pygments_lexer": "ipython3",
   "version": "3.9.12"
  }
 },
 "nbformat": 4,
 "nbformat_minor": 4
}
