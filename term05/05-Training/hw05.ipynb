{
 "cells": [
  {
   "cell_type": "markdown",
   "id": "12cc2329-fc82-4659-b0fe-f697e0f1cb36",
   "metadata": {
    "id": "uI7eaLF1zg3L"
   },
   "source": [
    "#### Задача 1. \n",
    "\n",
    "Напишите функцию, которая будет принимать строчку, а возвращать список номеров юникода для каждого символа в строке. "
   ]
  },
  {
   "cell_type": "code",
   "execution_count": null,
   "id": "78be7f64-9bbc-4edd-b765-0ff24f10aca6",
   "metadata": {
    "id": "nLF4GzqxzaVt"
   },
   "outputs": [],
   "source": [
    "def unicode(string):\n",
    "  # your code here"
   ]
  },
  {
   "cell_type": "markdown",
   "id": "d1a50c14-5d59-44b1-ade2-1ca511911837",
   "metadata": {
    "id": "nJ75WLFYzxRy"
   },
   "source": [
    "#### Задача 2. \n",
    "\n",
    "Пользователь вводит в цикле какие-то слова, пока не введет \"стоп\" в любом регистре. Программа должна вывести: 1. Сколько слов было введено 2. Запросить номер: пользователь вводит номер, и программа выводит слово, которое было введено под этим номером. Слова нужно хранить в списке."
   ]
  },
  {
   "cell_type": "code",
   "execution_count": null,
   "id": "e5ca129c-e62a-4eac-950f-7394540cf096",
   "metadata": {
    "id": "D39E_i3qz65T"
   },
   "outputs": [],
   "source": [
    "# your code here"
   ]
  },
  {
   "cell_type": "markdown",
   "id": "4c1097da-b5bb-4a06-9ec7-686cbfcb0f0b",
   "metadata": {
    "id": "nXRppwDAz86r"
   },
   "source": [
    "#### Задача 3. \n",
    "\n",
    "Соберите список из всех строчных букв русского алфавита с помощью генератора. Не забудьте про ё. "
   ]
  },
  {
   "cell_type": "code",
   "execution_count": null,
   "id": "4ed0e43c-a463-4d36-a6db-cf41ccb80936",
   "metadata": {
    "id": "y3HXJ10V0FTL"
   },
   "outputs": [],
   "source": [
    "# your code here"
   ]
  },
  {
   "cell_type": "markdown",
   "id": "cf57a445-631c-446b-873f-382c66938ca2",
   "metadata": {
    "id": "R_UohT4R0G-j"
   },
   "source": [
    "#### Задача 4. \n",
    "\n",
    "а) Есть список чисел (можно создать любым методом). Нужно на его основе с помощью генератора собрать список квадратов этих чисел, упорядоченных задом наперед (н-р, 49 36 25 16...)\n",
    "\n",
    "б) А если то же самое сделать внутри самого списка, не создавая новый? (Циклами и методами)"
   ]
  },
  {
   "cell_type": "code",
   "execution_count": null,
   "id": "a4b1310e-b64d-4bcb-8ce3-7b957bc24cc3",
   "metadata": {
    "id": "JZUvesey0MBC"
   },
   "outputs": [],
   "source": [
    "# your code here"
   ]
  },
  {
   "cell_type": "code",
   "execution_count": null,
   "id": "cbd2ce3a-1df9-4d73-aabd-02e40b98337b",
   "metadata": {
    "id": "xNQusGHi0O76"
   },
   "outputs": [],
   "source": [
    "# your code here"
   ]
  },
  {
   "cell_type": "markdown",
   "id": "f9aa7fd4-7154-4727-b347-d2f01ab2c53d",
   "metadata": {
    "id": "0D-41DVj0QHz"
   },
   "source": [
    "#### Задача 5. \n",
    "\n",
    "Вводится список чисел через пробел. Поменяйте в этом списке самое маленькое и самое большое число местами, н-р, список 4 2 6 3 7 5 должен превратиться в 4 7 6 3 2 5."
   ]
  },
  {
   "cell_type": "code",
   "execution_count": null,
   "id": "c35dbb89-663e-4680-98c5-c27c658f20b7",
   "metadata": {
    "id": "UIVwH07o0Uv7"
   },
   "outputs": [],
   "source": [
    "# your code here"
   ]
  },
  {
   "cell_type": "markdown",
   "id": "753cfd0f-0848-499b-8253-c4ba724c9b95",
   "metadata": {
    "id": "_ZpIQLjJ0Wgl"
   },
   "source": [
    "#### Задача 6. \n",
    "\n",
    "Вводится список, а потом число Х. Удалите из списка все элементы, которые встретились в списке Х раз. Вам понадобится, скорее всего, вложенный цикл: помните, что если вы удаляете элемент один раз, его количество в списке изменяется. "
   ]
  },
  {
   "cell_type": "code",
   "execution_count": null,
   "id": "f9326865-5309-4f2a-9bd8-6e140aa3a976",
   "metadata": {
    "id": "adBNcQ760ls0"
   },
   "outputs": [],
   "source": [
    "# your code here"
   ]
  }
 ],
 "metadata": {
  "kernelspec": {
   "display_name": "Python 3 (ipykernel)",
   "language": "python",
   "name": "python3"
  },
  "language_info": {
   "codemirror_mode": {
    "name": "ipython",
    "version": 3
   },
   "file_extension": ".py",
   "mimetype": "text/x-python",
   "name": "python",
   "nbconvert_exporter": "python",
   "pygments_lexer": "ipython3",
   "version": "3.9.12"
  }
 },
 "nbformat": 4,
 "nbformat_minor": 5
}
