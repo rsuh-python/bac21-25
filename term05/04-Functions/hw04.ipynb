{
 "cells": [
  {
   "cell_type": "markdown",
   "id": "fb0eb8fc-2ec3-404e-bd49-bb194ab99d36",
   "metadata": {
    "id": "rkhg0KaxbgUl"
   },
   "source": [
    "#### Задача 1. \n",
    "\n",
    "Напишите функцию, которая делает то же, что функция в семинарской задаче 1, но используйте рекурсию."
   ]
  },
  {
   "cell_type": "code",
   "execution_count": null,
   "id": "f94da827-50f3-4bd9-82c5-c6913681f285",
   "metadata": {
    "id": "ufWyhdbGbjqU"
   },
   "outputs": [],
   "source": [
    "# your code here"
   ]
  },
  {
   "cell_type": "markdown",
   "id": "0f66f844-8d9e-4cd5-83bd-f5c73e0d6ad5",
   "metadata": {
    "id": "A-OsgpSsbkBM"
   },
   "source": [
    "#### Задача 2. \n",
    "\n",
    "Напишите функцию, которая выводит таблицу умножения. Отформатируйте вывод таким образом, чтобы образовалась сеточка из чисел:\n",
    "\n",
    "    1 2 3 4  5\n",
    "    2 4 6 8 10\n",
    "    ...\n",
    "\n",
    "(Мы с вами подобное уже, кажется, делали, теперь достаточно оформить именно в функцию, чтобы можно было рисовать сеточку не до 9, а до такого числа, какое мы в функцию передадим). "
   ]
  },
  {
   "cell_type": "code",
   "execution_count": null,
   "id": "dfedf943-0edb-457d-9f5d-7c04f0c1e133",
   "metadata": {
    "id": "QcVBpNacb3S8"
   },
   "outputs": [],
   "source": [
    "# your code here"
   ]
  },
  {
   "cell_type": "markdown",
   "id": "137562ee-4f17-464f-a1a6-1b392ef030c2",
   "metadata": {
    "id": "TMLSOYfLb3vj"
   },
   "source": [
    "#### Задача 3. \n",
    "\n",
    "Напишите функцию, которая будет принимать числа a и b, делить их и выводить ответ в формате a / b = c, при этом число c должно быть округлено до двух знаков после запятой. Если знаете варианты, как это можно сделать, напишите варианты."
   ]
  },
  {
   "cell_type": "code",
   "execution_count": null,
   "id": "3ea74a52-0156-4d38-a6c3-0861dd912af5",
   "metadata": {
    "id": "lL2OF1Mbb68D"
   },
   "outputs": [],
   "source": [
    "# your code here"
   ]
  },
  {
   "cell_type": "markdown",
   "id": "5e19557e-685a-4d30-bba8-291401f65f3a",
   "metadata": {
    "id": "owMhp22Jb7Qs"
   },
   "source": [
    "#### Задача 4. \n",
    "\n",
    "Напишите функцию для подсчета букв в слове: пользователь вводит какую-то строку, а функция должна в форматированном виде вывести, сколько раз встретилась та или иная буква, например:\n",
    "\n",
    "    >>> 'ABBYY'\n",
    "    'A': 1\n",
    "    'B': 2\n",
    "    'Y': 2"
   ]
  },
  {
   "cell_type": "code",
   "execution_count": null,
   "id": "b246a976-ceba-4e83-aa53-c2e1ebcadafd",
   "metadata": {
    "id": "Lnufy8wscBWc"
   },
   "outputs": [],
   "source": [
    "# your code here"
   ]
  }
 ],
 "metadata": {
  "kernelspec": {
   "display_name": "Python 3 (ipykernel)",
   "language": "python",
   "name": "python3"
  },
  "language_info": {
   "codemirror_mode": {
    "name": "ipython",
    "version": 3
   },
   "file_extension": ".py",
   "mimetype": "text/x-python",
   "name": "python",
   "nbconvert_exporter": "python",
   "pygments_lexer": "ipython3",
   "version": "3.9.12"
  }
 },
 "nbformat": 4,
 "nbformat_minor": 5
}
