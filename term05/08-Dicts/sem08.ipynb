{
 "cells": [
  {
   "cell_type": "markdown",
   "id": "185e87ed-47ce-453f-a658-a387b6694c60",
   "metadata": {
    "id": "haI-ohMx8ReB"
   },
   "source": [
    "1. Зададим словарь, в котором ключами будут выступать названия месяцев, а значениями - количество дней для каждого месяца. "
   ]
  },
  {
   "cell_type": "code",
   "execution_count": null,
   "id": "ede999a2-d407-40fd-8571-930f001d6d73",
   "metadata": {
    "id": "8RmUe6t18ZP6"
   },
   "outputs": [],
   "source": [
    "# my code here"
   ]
  },
  {
   "cell_type": "markdown",
   "id": "7bd673b6-2fc4-4153-b964-2c8a8da68d69",
   "metadata": {
    "id": "1RaokA8V8Znw"
   },
   "source": [
    "2. Красиво выведем получившийся словарь в печать. "
   ]
  },
  {
   "cell_type": "code",
   "execution_count": null,
   "id": "e9e72ce2-fc7c-4909-b87f-ee5169cc0d68",
   "metadata": {
    "id": "C22uKHWM8dQZ"
   },
   "outputs": [],
   "source": [
    "# my code here"
   ]
  },
  {
   "cell_type": "markdown",
   "id": "9bea7b11-a8b2-411c-91cd-0340dbc04929",
   "metadata": {
    "id": "rAfmB4S18eFp"
   },
   "source": [
    "3. Посмотрим отдельно ключи и отдельно значения нашего словаря. "
   ]
  },
  {
   "cell_type": "code",
   "execution_count": null,
   "id": "b1dec136-d772-4dd4-90bd-e74dc96e078b",
   "metadata": {
    "id": "ZmW5fut28i5B"
   },
   "outputs": [],
   "source": [
    "# my code here"
   ]
  },
  {
   "cell_type": "markdown",
   "id": "cb2922a6-8bd4-417a-bf4e-21c9cd87fd0c",
   "metadata": {
    "id": "feHRU8_K8jOO"
   },
   "source": [
    "4. Поменяем ключи и значения местами: теперь вместо ключей будет количество дней, а вместо значений - списки месяцев с таким количеством. "
   ]
  },
  {
   "cell_type": "code",
   "execution_count": null,
   "id": "4e82f338-ed11-4e72-8e9c-e27ef2c4420a",
   "metadata": {
    "id": "ibuhHTmU8vo4"
   },
   "outputs": [],
   "source": [
    "# my code here"
   ]
  },
  {
   "cell_type": "markdown",
   "id": "f50bcca2-a532-49f5-8f1e-1cb89c9c27fe",
   "metadata": {
    "id": "oi9LKv0r8_yB"
   },
   "source": [
    "5. Заведем словарь с переводами каких-нибудь слов. Хотим добавить перевод для одного из слов, но таким образом, чтобы если там уже был какой-то вариант, он сохранился (н-р, было небо - sky, а мы хотим добавить вариант heaven). "
   ]
  },
  {
   "cell_type": "code",
   "execution_count": null,
   "id": "b1d07d9d-5ef4-4fd9-b080-2a7674f1c88a",
   "metadata": {
    "id": "Si2sVjHUAy1l"
   },
   "outputs": [],
   "source": [
    "# my code here"
   ]
  },
  {
   "cell_type": "markdown",
   "id": "f10e173c-cc94-4b59-a374-a7d387b48190",
   "metadata": {
    "id": "cBjF3PJG8wAp"
   },
   "source": [
    "6. Вводится текст. Нам нужно составить список частот встречающихся в нем слов. Как это сделать?"
   ]
  },
  {
   "cell_type": "code",
   "execution_count": null,
   "id": "6a2f3f8b-83f4-4a44-afac-30d92ce8d739",
   "metadata": {
    "id": "lLOzVJB583XZ"
   },
   "outputs": [],
   "source": [
    "# my code here"
   ]
  },
  {
   "cell_type": "markdown",
   "id": "1982cf47-f1f8-44b7-9f03-6eecff38f545",
   "metadata": {
    "id": "Idp21DCo85Mp"
   },
   "source": [
    "Задача 1. \n",
    "\n",
    "Собираем телефонный справочник. Пользователь в бесконечном цикле вводит фамилию и номер телефона через пробел, пока не введет \"хватит\". Программа должна завести словарь, в котором по фамилии хранится номер телефона. "
   ]
  },
  {
   "cell_type": "code",
   "execution_count": null,
   "id": "b197b21d-b9b1-4a6a-bc9e-59aa1a820bf0",
   "metadata": {
    "id": "pHDg8luU-WfJ"
   },
   "outputs": [],
   "source": [
    "# your code here"
   ]
  },
  {
   "cell_type": "markdown",
   "id": "808654c4-5d99-467d-bac9-4074ead39d87",
   "metadata": {
    "id": "dbnbRb1_-Wu4"
   },
   "source": [
    "Задача 2.\n",
    "\n",
    "Превратим англо-русский словарь в русско-английский. В исходном англо-русском словаре для одного английского слова могут идти в алфавитном порядке русские варианты перевода:\n",
    "\n",
    "    'call': ['звать', 'звонить', 'называть']\n",
    "\n",
    "Может быть и такая ситуация, что одно и то же русское слово встречается в переводах двух английских слов:\n",
    "\n",
    "    'name': ['имя', 'называть']\n",
    "\n",
    "Наш русско-английский словарь должен правильно перевернуться: не потерять ни одного перевода, при этом английские переводы тоже должны быть в алфавитном порядке. Программа должна вывести новый словарь на экран: русские слова должны быть отсортированы, как и их переводы. "
   ]
  },
  {
   "cell_type": "code",
   "execution_count": null,
   "id": "3f60206e-5348-482b-8b54-11ace01a54c4",
   "metadata": {
    "id": "0KSgVR6f_8Y7"
   },
   "outputs": [],
   "source": [
    "# your code here"
   ]
  },
  {
   "cell_type": "markdown",
   "id": "d60c2570-2f69-47f7-a554-3425b2198c66",
   "metadata": {
    "id": "SPYdDDEyAB2B"
   },
   "source": [
    "Задача 3.\n",
    "\n",
    "Вводится текст. Нам нужно посчитать относительные частоты всех его слов: то есть, частоты слов нужно дополнительно поделить на общее их количество. "
   ]
  },
  {
   "cell_type": "code",
   "execution_count": null,
   "id": "be1dba4f-622e-4f77-8a22-06bfe0530f28",
   "metadata": {
    "id": "Urik8JgSAUt6"
   },
   "outputs": [],
   "source": [
    "# your code here"
   ]
  },
  {
   "cell_type": "markdown",
   "id": "dd066c73-6dad-443e-b203-406b9f845200",
   "metadata": {
    "id": "L2UI5gFcCo-L"
   },
   "source": [
    "Задача 4. \n",
    "\n",
    "У нас есть два списка: в одном по порядку записаны имена людей, а в другом их дни рождения (формат неважен, можно в строках). Нам нужно объединить два списка в словарь, где ключ - имя, а значение - день рождения, причем мы знаем, что дни рождения в том же порядке, что и имена людей. "
   ]
  },
  {
   "cell_type": "code",
   "execution_count": null,
   "id": "a599868e-b9fe-49ac-b52e-a8d4170dff2d",
   "metadata": {
    "id": "HMNnRgTbDbGr"
   },
   "outputs": [],
   "source": [
    "# your code here"
   ]
  },
  {
   "cell_type": "markdown",
   "id": "989462d4-c74c-4bc1-b8cc-0b5d15f39017",
   "metadata": {
    "id": "4dZDMRTtEAkC"
   },
   "source": [
    "Задача 5 (2 балла)\n",
    "\n",
    "В ячейке представлен автоматический морфологический разбор предложения. Изучите этот разбор. Посчитайте, сколько в нем словарей, выведите, какие у словарей есть ключи. \n",
    "\n",
    "Посчитайте, сколько в предложении слов. \n",
    "\n",
    "Попробуйте посчитать, сколько там глаголов и существительных (это можно сделать с помощью str.startswith() - метода строки, который проверяет, что строчка начинается на аргумент этого метода). \n",
    "\n",
    "Подумайте, что означают слова со значением ключа bastard?"
   ]
  },
  {
   "cell_type": "code",
   "execution_count": null,
   "id": "bd85eca6-238b-4f6c-bd93-b67eaad398ba",
   "metadata": {
    "id": "XgBNzvIrFE2q"
   },
   "outputs": [],
   "source": [
    "analyze = [{'analysis': [{'lex': 'это', 'gr': 'SPRO,ед,сред,неод=(вин|им)'}], 'text': 'Это'}, {'text': ' '}, \n",
    "           {'analysis': [{'lex': 'быть', 'gr': 'V,нп=прош,ед,изъяв,сред,несов'}], 'text': 'было'}, {'text': ' '}, \n",
    "           {'analysis': [{'lex': 'у', 'gr': 'PR='}], 'text': 'у'}, {'text': ' '}, \n",
    "           {'analysis': [{'lex': 'место', 'gr': 'S,сред,неод=(вин,мн|род,ед|им,мн)'}], 'text': 'места'}, {'text': ', '}, \n",
    "           {'analysis': [{'lex': 'потому', 'gr': 'ADVPRO='}], 'text': 'потому'}, {'text': ' '}, \n",
    "           {'analysis': [{'lex': 'что', 'gr': 'CONJ='}], 'text': 'что'}, {'text': ' '}, \n",
    "           {'analysis': [{'lex': 'фемистоклюс', 'qual': 'bastard', 'gr': 'S,фам,муж,од=им,ед'}], 'text': 'Фемистоклюс'}, {'text': ' '}, \n",
    "           {'analysis': [{'lex': 'укусить', 'gr': 'V,сов,пе=прош,ед,изъяв,муж'}], 'text': 'укусил'}, {'text': ' '}, \n",
    "           {'analysis': [{'lex': 'за', 'gr': 'PR='}], 'text': 'за'}, {'text': ' '}, \n",
    "           {'analysis': [{'lex': 'ухо', 'gr': 'S,сред,неод=(вин,ед|им,ед)'}], 'text': 'ухо'}, {'text': ' '}, \n",
    "           {'analysis': [{'lex': 'алкид', 'qual': 'bastard', 'gr': 'S,муж,неод=род,ед'}], 'text': 'Алкида'}, {'text': ', '}, \n",
    "           {'analysis': [{'lex': 'и', 'gr': 'CONJ='}], 'text': 'и'}, {'text': ' '}, \n",
    "           {'analysis': [{'lex': 'алкид', 'qual': 'bastard', 'gr': 'S,муж,неод=(вин,ед|им,ед)'}], 'text': 'Алкид'}, {'text': ', '}, \n",
    "           {'analysis': [{'lex': 'зажмуривать', 'gr': 'V,пе=прош,деепр,сов'}], 'text': 'зажмурив'}, {'text': ' '}, \n",
    "           {'analysis': [{'lex': 'глаз', 'gr': 'S,муж,неод=(вин,мн|род,ед|им,мн)'}], 'text': 'глаза'}, {'text': ' '}, \n",
    "           {'analysis': [{'lex': 'и', 'gr': 'CONJ='}], 'text': 'и'}, {'text': ' '}, \n",
    "           {'analysis': [{'lex': 'открывать', 'gr': 'V=прош,деепр,сов'}], 'text': 'открыв'}, {'text': ' '}, \n",
    "           {'analysis': [{'lex': 'рот', 'gr': 'S,муж,неод=(вин,ед|им,ед)'}], 'text': 'рот'}, {'text': ', '}, \n",
    "           {'analysis': [{'lex': 'готовый', 'gr': 'A=ед,кр,муж'}], 'text': 'готов'}, {'text': ' '}, \n",
    "           {'analysis': [{'lex': 'быть', 'gr': 'V,нп=прош,ед,изъяв,муж,несов'}], 'text': 'был'}, {'text': ' '}, \n",
    "           {'analysis': [{'lex': 'зарыдать', 'gr': 'V,сов,нп=инф'}], 'text': 'зарыдать'}, {'text': ' '}, \n",
    "           {'analysis': [{'lex': 'самый', 'gr': 'APRO=(дат,мн|твор,ед,муж|твор,ед,сред)'}], 'text': 'самым'}, {'text': ' '}, \n",
    "           {'analysis': [{'lex': 'жалкий', 'gr': 'A=(дат,мн,полн|твор,ед,полн,муж|твор,ед,полн,сред)'}], 'text': 'жалким'}, {'text': ' '}, \n",
    "           {'analysis': [{'lex': 'образ', 'gr': 'S,муж,неод=твор,ед'}], 'text': 'образом'}, {'text': ', '}, \n",
    "           {'analysis': [{'lex': 'но', 'gr': 'CONJ='}], 'text': 'но'}, {'text': ', '}, {'analysis': [{'lex': 'почувствовать', 'gr': 'V,сов,пе=прош,деепр'}], 'text': 'почувствовав'}, {'text': ', '}, \n",
    "           {'analysis': [{'lex': 'что', 'gr': 'CONJ='}], 'text': 'что'}, {'text': ' '}, \n",
    "           {'analysis': [{'lex': 'за', 'gr': 'PR='}], 'text': 'за'}, {'text': ' '}, \n",
    "           {'analysis': [{'lex': 'это', 'gr': 'SPRO,ед,сред,неод=(вин|им)'}], 'text': 'это'}, {'text': ' '}, \n",
    "           {'analysis': [{'lex': 'легко', 'gr': 'ADV='}], 'text': 'легко'}, {'text': ' '}, \n",
    "           {'analysis': [{'lex': 'можно', 'gr': 'ADV,прдк='}], 'text': 'можно'}, {'text': ' '}, \n",
    "           {'analysis': [{'lex': 'быть', 'gr': 'V,нп=прош,ед,изъяв,сред,несов'}], 'text': 'было'}, {'text': ' '}, \n",
    "           {'analysis': [{'lex': 'лишаться', 'gr': 'V,нп=инф,сов'}], 'text': 'лишиться'}, {'text': ' '}, \n",
    "           {'analysis': [{'lex': 'блюдо', 'gr': 'S,сред,неод=(вин,мн|род,ед|им,мн)'}], 'text': 'блюда'}, {'text': ', '}, \n",
    "           {'analysis': [{'lex': 'приводить', 'gr': 'V=прош,ед,изъяв,муж,сов'}], 'text': 'привел'}, {'text': ' '}, \n",
    "           {'analysis': [{'lex': 'рот', 'gr': 'S,муж,неод=(вин,ед|им,ед)'}], 'text': 'рот'}, {'text': ' '}, \n",
    "           {'analysis': [{'lex': 'в', 'gr': 'PR='}], 'text': 'в'}, {'text': ' '}, \n",
    "           {'analysis': [{'lex': 'прежний', 'gr': 'A=(вин,ед,полн,сред|им,ед,полн,сред)'}], 'text': 'прежнее'}, {'text': ' '}, \n",
    "           {'analysis': [{'lex': 'положение', 'gr': 'S,сред,неод=(вин,ед|им,ед)'}], 'text': 'положение'}, {'text': ' '}, \n",
    "           {'analysis': [{'lex': 'и', 'gr': 'CONJ='}], 'text': 'и'}, {'text': ' '}, \n",
    "           {'analysis': [{'lex': 'начинать', 'gr': 'V,пе=прош,ед,изъяв,муж,сов'}], 'text': 'начал'}, {'text': ' '}, \n",
    "           {'analysis': [{'lex': 'со', 'gr': 'PR='}], 'text': 'со'}, {'text': ' '}, \n",
    "           {'analysis': [{'lex': 'слеза', 'gr': 'S,жен,неод=твор,мн'}], 'text': 'слезами'}, {'text': ' '}, \n",
    "           {'analysis': [{'lex': 'грызть', 'gr': 'V,несов,пе=инф'}], 'text': 'грызть'}, {'text': ' '}, \n",
    "           {'analysis': [{'lex': 'бараний', 'gr': 'A,полн=вин,ед,жен'}], 'text': 'баранью'}, {'text': ' '}, \n",
    "           {'analysis': [{'lex': 'кость', 'gr': 'S,жен,неод=(вин,ед|им,ед)'}], 'text': 'кость'}, {'text': ', '}, \n",
    "           {'analysis': [{'lex': 'от', 'gr': 'PR='}], 'text': 'от'}, {'text': ' '}, \n",
    "           {'analysis': [{'lex': 'который', 'gr': 'APRO=(пр,ед,жен|дат,ед,жен|род,ед,жен|твор,ед,жен)'}], 'text': 'которой'}, {'text': ' '}, \n",
    "           {'analysis': [{'lex': 'у', 'gr': 'PR='}], 'text': 'у'}, {'text': ' '}, \n",
    "           {'analysis': [{'lex': 'он', 'gr': 'SPRO,ед,3-л,муж=(вин|род)'}], 'text': 'него'}, {'text': ' '}, \n",
    "           {'analysis': [{'lex': 'оба', 'gr': 'NUM=(им,жен|вин,жен,неод)'}], 'text': 'обе'}, {'text': ' '}, \n",
    "           {'analysis': [{'lex': 'щека', 'gr': 'S,жен,неод=(вин,мн|род,ед|им,мн)'}], 'text': 'щеки'}, {'text': ' '}, \n",
    "           {'analysis': [{'lex': 'лосниться', 'gr': 'V,несов,нп=прош,мн,изъяв'}], 'text': 'лоснились'}, {'text': ' '}, \n",
    "           {'analysis': [{'lex': 'жир', 'gr': 'S,муж,неод=твор,ед'}], 'text': 'жиром'}, {'text': '.'}, {'text': '\\n'}]\n",
    "\n",
    "# your code here"
   ]
  }
 ],
 "metadata": {
  "kernelspec": {
   "display_name": "Python 3 (ipykernel)",
   "language": "python",
   "name": "python3"
  },
  "language_info": {
   "codemirror_mode": {
    "name": "ipython",
    "version": 3
   },
   "file_extension": ".py",
   "mimetype": "text/x-python",
   "name": "python",
   "nbconvert_exporter": "python",
   "pygments_lexer": "ipython3",
   "version": "3.9.18"
  }
 },
 "nbformat": 4,
 "nbformat_minor": 5
}
