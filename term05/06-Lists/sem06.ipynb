{
 "cells": [
  {
   "cell_type": "markdown",
   "id": "90517b82-874d-4b1a-b728-c1e8039934b3",
   "metadata": {
    "id": "kQHqKRUdtkl4"
   },
   "source": [
    "### Примеры\n",
    "\n",
    "#### 1\n",
    "\n",
    "Пользователь вводит числа и буквы через пробел в одной строке. Нужно собрать список, в котором будут квадраты введенных чисел. "
   ]
  },
  {
   "cell_type": "code",
   "execution_count": null,
   "id": "f48b0c0e-f925-4342-a119-3f6eea004cb8",
   "metadata": {
    "colab": {
     "base_uri": "https://localhost:8080/"
    },
    "executionInfo": {
     "elapsed": 3055,
     "status": "ok",
     "timestamp": 1669124781994,
     "user": {
      "displayName": "Alexandra Ivoilova",
      "userId": "03566560446750535462"
     },
     "user_tz": -180
    },
    "id": "R9GKIrIetiYO",
    "outputId": "d230f563-f4cb-4898-a195-1f2246b7f6d5"
   },
   "outputs": [],
   "source": [
    "# my code here"
   ]
  },
  {
   "cell_type": "markdown",
   "id": "6ae35ec5-b26a-4123-9ae6-1de3347ff633",
   "metadata": {
    "id": "EotjGtSIvgvu"
   },
   "source": [
    "#### 2\n",
    "\n",
    "У нас есть список чисел. Нужно посчитать их сумму."
   ]
  },
  {
   "cell_type": "code",
   "execution_count": null,
   "id": "c66ee98f-1004-45c0-b2d5-1086fcacb16a",
   "metadata": {
    "colab": {
     "base_uri": "https://localhost:8080/"
    },
    "executionInfo": {
     "elapsed": 4259,
     "status": "ok",
     "timestamp": 1669124866063,
     "user": {
      "displayName": "Alexandra Ivoilova",
      "userId": "03566560446750535462"
     },
     "user_tz": -180
    },
    "id": "sjZOriZdvk8n",
    "outputId": "c4269b89-824b-4696-9b17-3dff644c1ba2"
   },
   "outputs": [],
   "source": [
    "# my code here"
   ]
  },
  {
   "cell_type": "markdown",
   "id": "d84bed4e-17ae-4af1-a0e7-cd92b9ae6411",
   "metadata": {
    "id": "RRkL2riKuO-g"
   },
   "source": [
    "#### 3\n",
    "\n",
    "У нас есть заданный любым способом список чисел. Пользователь вводит новое число. Нужно добавить это число на 3 место в списке. "
   ]
  },
  {
   "cell_type": "code",
   "execution_count": null,
   "id": "ce0d3447-fe89-4618-9279-64b84247a541",
   "metadata": {
    "colab": {
     "base_uri": "https://localhost:8080/"
    },
    "executionInfo": {
     "elapsed": 5116,
     "status": "ok",
     "timestamp": 1669124915312,
     "user": {
      "displayName": "Alexandra Ivoilova",
      "userId": "03566560446750535462"
     },
     "user_tz": -180
    },
    "id": "Z5hmAhwzumh5",
    "outputId": "839421f6-24a4-48e9-e374-67b866a21ca8"
   },
   "outputs": [],
   "source": [
    "# my code here"
   ]
  },
  {
   "cell_type": "markdown",
   "id": "0a32472d-d7fc-4159-ac85-ad2a7d6ec87d",
   "metadata": {
    "id": "1YOhrtGIunzx"
   },
   "source": [
    "#### 4\n",
    "\n",
    "Пользователь вводит какой-то текст в одной строке. Нужно посчитать, сколько в этом тексте слов. "
   ]
  },
  {
   "cell_type": "code",
   "execution_count": null,
   "id": "8c0e2728-517e-434f-a6c1-5bfb8a6b9fba",
   "metadata": {
    "colab": {
     "base_uri": "https://localhost:8080/"
    },
    "executionInfo": {
     "elapsed": 3739,
     "status": "ok",
     "timestamp": 1669125003896,
     "user": {
      "displayName": "Alexandra Ivoilova",
      "userId": "03566560446750535462"
     },
     "user_tz": -180
    },
    "id": "E3NmF9xuu2Q_",
    "outputId": "09627178-5169-4cff-91f8-415e007ae2e0"
   },
   "outputs": [],
   "source": [
    "# my code here"
   ]
  },
  {
   "cell_type": "markdown",
   "id": "19b80e37-7883-4834-81e4-545a62499c19",
   "metadata": {
    "id": "NoNgVstnu3x2"
   },
   "source": [
    "#### 5\n",
    "\n",
    "Пользователь сперва вводит несколько фамилий через пробел, а потом в таком же порядке несколько дат рождения. Нужно составить из этого один список с кортежами вида \"фамилия - дата рождения\". "
   ]
  },
  {
   "cell_type": "code",
   "execution_count": null,
   "id": "19c05894-9ef5-410c-af65-9b045439b48b",
   "metadata": {
    "id": "1X8JVQ-uvPpP"
   },
   "outputs": [],
   "source": [
    "# my code here"
   ]
  },
  {
   "cell_type": "markdown",
   "id": "75947b4f-c2f6-409c-b4e8-32142fa2683b",
   "metadata": {
    "id": "UEnlHhezvRw-"
   },
   "source": [
    "#### 6\n",
    "\n",
    "Вводится список слов через пробелы. Нужно вывести только такие слова, которые встретились в списке один раз. "
   ]
  },
  {
   "cell_type": "code",
   "execution_count": null,
   "id": "60a1caf0-99ec-4e9e-a74c-84c6164f371a",
   "metadata": {
    "colab": {
     "base_uri": "https://localhost:8080/"
    },
    "executionInfo": {
     "elapsed": 6230,
     "status": "ok",
     "timestamp": 1669125201524,
     "user": {
      "displayName": "Alexandra Ivoilova",
      "userId": "03566560446750535462"
     },
     "user_tz": -180
    },
    "id": "qyNfwMsnvS3X",
    "outputId": "d9915eac-29bf-4dca-9e01-81a9972ec562"
   },
   "outputs": [],
   "source": [
    "# my code here"
   ]
  },
  {
   "cell_type": "markdown",
   "id": "c94d7dc5-b0ae-44f6-914e-971a9e2d26ec",
   "metadata": {
    "id": "oMfPpXjPv4bF"
   },
   "source": [
    "#### 7\n",
    "\n",
    "Вводится список слов. Нужно отсортировать слова в зависимости от того, сколько раз в слове встретилась буква \"а\". "
   ]
  },
  {
   "cell_type": "code",
   "execution_count": null,
   "id": "11a3a1c2-bfb0-4c04-8a4c-ed3cb397a6d3",
   "metadata": {
    "colab": {
     "base_uri": "https://localhost:8080/"
    },
    "executionInfo": {
     "elapsed": 1863,
     "status": "ok",
     "timestamp": 1669125398977,
     "user": {
      "displayName": "Alexandra Ivoilova",
      "userId": "03566560446750535462"
     },
     "user_tz": -180
    },
    "id": "NxsYiT_Xv95m",
    "outputId": "28b2d7b7-e863-4342-acc7-65a134cace28"
   },
   "outputs": [],
   "source": [
    "# my code here"
   ]
  },
  {
   "cell_type": "markdown",
   "id": "99cfb265-3f8f-43b1-94df-0b276575b9e3",
   "metadata": {
    "id": "IU7CQXohxw5n"
   },
   "source": [
    "#### 8\n",
    "\n",
    "Дан список чисел. Нужно к каждому первому элементу в списке добавить каждый второй элемент. "
   ]
  },
  {
   "cell_type": "code",
   "execution_count": null,
   "id": "7b330a48-e399-4745-9e27-fb0eeb8ba4cc",
   "metadata": {
    "colab": {
     "base_uri": "https://localhost:8080/"
    },
    "executionInfo": {
     "elapsed": 3580,
     "status": "ok",
     "timestamp": 1669125603221,
     "user": {
      "displayName": "Alexandra Ivoilova",
      "userId": "03566560446750535462"
     },
     "user_tz": -180
    },
    "id": "UZBCc3Yfx9re",
    "outputId": "be8b1778-4f61-4c50-a895-b43b15ca0321"
   },
   "outputs": [],
   "source": [
    "# my code here"
   ]
  },
  {
   "cell_type": "markdown",
   "id": "8d7fd318-1142-4cba-8649-c50e0ab2bdc6",
   "metadata": {
    "id": "nK3deqcUx_y1"
   },
   "source": [
    "#### 9\n",
    "\n",
    "Дан список чисел. Нужно из него удалить все нечетные. "
   ]
  },
  {
   "cell_type": "code",
   "execution_count": null,
   "id": "e4f5dc74-79c7-4e17-b7c3-ed1cd82db3ad",
   "metadata": {
    "colab": {
     "base_uri": "https://localhost:8080/"
    },
    "executionInfo": {
     "elapsed": 3836,
     "status": "ok",
     "timestamp": 1669126040088,
     "user": {
      "displayName": "Alexandra Ivoilova",
      "userId": "03566560446750535462"
     },
     "user_tz": -180
    },
    "id": "4pQlgXQeyDPV",
    "outputId": "21ace9cd-2fc3-4e2e-bd43-d5af06c30a46"
   },
   "outputs": [],
   "source": [
    "# my code here"
   ]
  },
  {
   "cell_type": "markdown",
   "id": "c1472b37-1a54-461b-bdbc-aa297ebd2ccf",
   "metadata": {
    "id": "iOPSfBnbwAyG"
   },
   "source": [
    "### Задачи\n",
    "\n",
    "#### Задача 1. \n",
    "\n",
    "Пользователь вводит числа и слова через пробел. Соберите список только из слов."
   ]
  },
  {
   "cell_type": "code",
   "execution_count": null,
   "id": "213e1afa-e60a-4506-888e-343c7151d209",
   "metadata": {
    "id": "hpDhd_6qwWu-"
   },
   "outputs": [],
   "source": [
    "# your code here"
   ]
  },
  {
   "cell_type": "markdown",
   "id": "8b0d3771-d380-4e48-8429-578fe1613c0e",
   "metadata": {
    "id": "rgzd97tKwYJH"
   },
   "source": [
    "#### Задача 2. \n",
    "\n",
    "Пользователь вводит через пробел числа и (возможно) какие-то другие символы. Соберите из этого список только из чисел, посчитайте его среднее арифметическое (сумма / длина)"
   ]
  },
  {
   "cell_type": "code",
   "execution_count": null,
   "id": "076e6c38-1e33-4d8f-ac6c-739f6b2919d4",
   "metadata": {
    "id": "4jfVZkL6wkH2"
   },
   "outputs": [],
   "source": [
    "# your code here"
   ]
  },
  {
   "cell_type": "markdown",
   "id": "50957845-ad47-4212-b8ef-cb4a5ab9546d",
   "metadata": {
    "id": "1YMJPPhgwlmu"
   },
   "source": [
    "#### Задача 3. \n",
    "\n",
    "Петя перешёл в другую школу. На уроке физкультуры ему понадобилось определить своё место в строю. Помогите ему это сделать.\n",
    "\n",
    "Программа получает на вход отсортированную по убыванию последовательность натуральных чисел, означающих рост каждого человека в строю. После этого вводится число X – рост Пети. Все числа во входных данных натуральные и не превышают 200."
   ]
  },
  {
   "cell_type": "code",
   "execution_count": null,
   "id": "411cb679-5098-4bbd-9e49-ea2f61ebecef",
   "metadata": {
    "id": "bPpgIcd6w7wy"
   },
   "outputs": [],
   "source": [
    "# your code here"
   ]
  },
  {
   "cell_type": "markdown",
   "id": "48692b43-4429-403c-97e6-a12b2d8c1914",
   "metadata": {
    "id": "imtWlFkWw9C7"
   },
   "source": [
    "#### Задача 4. \n",
    "\n",
    "Пользователь вводит строку. Удалите из этой строки все лишние пробелы, воспользовавшись методами split() и join(). "
   ]
  },
  {
   "cell_type": "code",
   "execution_count": null,
   "id": "3daf60c8-04fd-468c-8aed-71ceccf815bf",
   "metadata": {
    "id": "h3eQHvDRxF-2"
   },
   "outputs": [],
   "source": [
    "# your code here"
   ]
  },
  {
   "cell_type": "markdown",
   "id": "a67ed58a-652e-4051-baab-54c16a8c34d3",
   "metadata": {
    "id": "5uXJ5utWxHR1"
   },
   "source": [
    "#### Задача 5. \n",
    "\n",
    "Пользователь вводит список из слов. Поменяйте в этом списке все слова попарно местами, так, чтобы получилось:\n",
    "\n",
    "    денег нет но вы держитесь => нет денег вы но держитесь\n",
    "    карл у клары украл кларнет => у карл украл клары кларнет\n",
    "    милые котики теплые животики => котики милые животики теплые"
   ]
  },
  {
   "cell_type": "code",
   "execution_count": null,
   "id": "20071b16-ee04-4895-a8de-b2505ee94865",
   "metadata": {
    "id": "giuxMASrxuQ1"
   },
   "outputs": [],
   "source": [
    "# your code here"
   ]
  }
 ],
 "metadata": {
  "kernelspec": {
   "display_name": "Python 3 (ipykernel)",
   "language": "python",
   "name": "python3"
  },
  "language_info": {
   "codemirror_mode": {
    "name": "ipython",
    "version": 3
   },
   "file_extension": ".py",
   "mimetype": "text/x-python",
   "name": "python",
   "nbconvert_exporter": "python",
   "pygments_lexer": "ipython3",
   "version": "3.9.12"
  }
 },
 "nbformat": 4,
 "nbformat_minor": 5
}
